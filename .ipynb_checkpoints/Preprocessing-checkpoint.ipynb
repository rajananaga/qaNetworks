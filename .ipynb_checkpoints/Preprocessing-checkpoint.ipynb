{
 "cells": [
  {
   "cell_type": "code",
   "execution_count": 1,
   "metadata": {},
   "outputs": [
    {
     "name": "stdout",
     "output_type": "stream",
     "text": [
      "Requirement already satisfied: nltk in /Users/Arnav/anaconda2/lib/python2.7/site-packages\n",
      "Requirement already satisfied: six in /Users/Arnav/anaconda2/lib/python2.7/site-packages (from nltk)\n",
      "\u001b[33mYou are using pip version 9.0.1, however version 10.0.0 is available.\n",
      "You should consider upgrading via the 'pip install --upgrade pip' command.\u001b[0m\n"
     ]
    }
   ],
   "source": [
    "!pip install nltk"
   ]
  },
  {
   "cell_type": "code",
   "execution_count": 81,
   "metadata": {},
   "outputs": [
    {
     "name": "stdout",
     "output_type": "stream",
     "text": [
      "[nltk_data] Downloading package punkt to /Users/Arnav/nltk_data...\n",
      "[nltk_data]   Package punkt is already up-to-date!\n",
      "[nltk_data] Downloading package wordnet to /Users/Arnav/nltk_data...\n",
      "[nltk_data]   Package wordnet is already up-to-date!\n"
     ]
    },
    {
     "data": {
      "text/html": [
       "<div>\n",
       "<style>\n",
       "    .dataframe thead tr:only-child th {\n",
       "        text-align: right;\n",
       "    }\n",
       "\n",
       "    .dataframe thead th {\n",
       "        text-align: left;\n",
       "    }\n",
       "\n",
       "    .dataframe tbody tr th {\n",
       "        vertical-align: top;\n",
       "    }\n",
       "</style>\n",
       "<table border=\"1\" class=\"dataframe\">\n",
       "  <thead>\n",
       "    <tr style=\"text-align: right;\">\n",
       "      <th></th>\n",
       "      <th>id</th>\n",
       "      <th>qid1</th>\n",
       "      <th>qid2</th>\n",
       "      <th>question1</th>\n",
       "      <th>question2</th>\n",
       "      <th>is_duplicate</th>\n",
       "    </tr>\n",
       "  </thead>\n",
       "  <tbody>\n",
       "    <tr>\n",
       "      <th>0</th>\n",
       "      <td>0</td>\n",
       "      <td>1</td>\n",
       "      <td>2</td>\n",
       "      <td>What is the step by step guide to invest in sh...</td>\n",
       "      <td>What is the step by step guide to invest in sh...</td>\n",
       "      <td>0</td>\n",
       "    </tr>\n",
       "    <tr>\n",
       "      <th>1</th>\n",
       "      <td>1</td>\n",
       "      <td>3</td>\n",
       "      <td>4</td>\n",
       "      <td>What is the story of Kohinoor (Koh-i-Noor) Dia...</td>\n",
       "      <td>What would happen if the Indian government sto...</td>\n",
       "      <td>0</td>\n",
       "    </tr>\n",
       "    <tr>\n",
       "      <th>2</th>\n",
       "      <td>2</td>\n",
       "      <td>5</td>\n",
       "      <td>6</td>\n",
       "      <td>How can I increase the speed of my internet co...</td>\n",
       "      <td>How can Internet speed be increased by hacking...</td>\n",
       "      <td>0</td>\n",
       "    </tr>\n",
       "    <tr>\n",
       "      <th>3</th>\n",
       "      <td>3</td>\n",
       "      <td>7</td>\n",
       "      <td>8</td>\n",
       "      <td>Why am I mentally very lonely? How can I solve...</td>\n",
       "      <td>Find the remainder when [math]23^{24}[/math] i...</td>\n",
       "      <td>0</td>\n",
       "    </tr>\n",
       "    <tr>\n",
       "      <th>4</th>\n",
       "      <td>4</td>\n",
       "      <td>9</td>\n",
       "      <td>10</td>\n",
       "      <td>Which one dissolve in water quikly sugar, salt...</td>\n",
       "      <td>Which fish would survive in salt water?</td>\n",
       "      <td>0</td>\n",
       "    </tr>\n",
       "  </tbody>\n",
       "</table>\n",
       "</div>"
      ],
      "text/plain": [
       "   id  qid1  qid2                                          question1  \\\n",
       "0   0     1     2  What is the step by step guide to invest in sh...   \n",
       "1   1     3     4  What is the story of Kohinoor (Koh-i-Noor) Dia...   \n",
       "2   2     5     6  How can I increase the speed of my internet co...   \n",
       "3   3     7     8  Why am I mentally very lonely? How can I solve...   \n",
       "4   4     9    10  Which one dissolve in water quikly sugar, salt...   \n",
       "\n",
       "                                           question2  is_duplicate  \n",
       "0  What is the step by step guide to invest in sh...             0  \n",
       "1  What would happen if the Indian government sto...             0  \n",
       "2  How can Internet speed be increased by hacking...             0  \n",
       "3  Find the remainder when [math]23^{24}[/math] i...             0  \n",
       "4            Which fish would survive in salt water?             0  "
      ]
     },
     "execution_count": 81,
     "metadata": {},
     "output_type": "execute_result"
    }
   ],
   "source": [
    "import numpy as np \n",
    "import pandas as pd    \n",
    "import bs4 as bs\n",
    "import nltk\n",
    "from nltk.tokenize import sent_tokenize\n",
    "import re\n",
    "from nltk.stem import PorterStemmer\n",
    "from nltk.tag import pos_tag\n",
    "from nltk import sent_tokenize\n",
    "from nltk.corpus import stopwords\n",
    "from nltk.corpus import wordnet\n",
    "from nltk.stem import WordNetLemmatizer\n",
    "nltk.download('punkt')\n",
    "nltk.download('wordnet')\n",
    "from nltk import word_tokenize, sent_tokenize\n",
    "\n",
    "import squad_preprocess as prepro\n",
    "\n",
    "import tensorflow as tf\n",
    "\n",
    "#data_dir = 'paraphrase-id-tensorflow-master/data/raw/'\n",
    "data_dir = 'data/'\n",
    "train = pd.read_csv(data_dir + \"train.csv\", encoding=\"utf-8\")\n",
    "pre_len = train.shape[0]\n",
    "train = train.dropna(how = 'any')\n",
    "post_len = train.shape[0]\n",
    "train.head()"
   ]
  },
  {
   "cell_type": "code",
   "execution_count": 17,
   "metadata": {},
   "outputs": [
    {
     "data": {
      "text/html": [
       "<div>\n",
       "<style>\n",
       "    .dataframe thead tr:only-child th {\n",
       "        text-align: right;\n",
       "    }\n",
       "\n",
       "    .dataframe thead th {\n",
       "        text-align: left;\n",
       "    }\n",
       "\n",
       "    .dataframe tbody tr th {\n",
       "        vertical-align: top;\n",
       "    }\n",
       "</style>\n",
       "<table border=\"1\" class=\"dataframe\">\n",
       "  <thead>\n",
       "    <tr style=\"text-align: right;\">\n",
       "      <th></th>\n",
       "      <th>id</th>\n",
       "      <th>qid1</th>\n",
       "      <th>qid2</th>\n",
       "      <th>question1</th>\n",
       "      <th>question2</th>\n",
       "      <th>is_duplicate</th>\n",
       "    </tr>\n",
       "  </thead>\n",
       "  <tbody>\n",
       "    <tr>\n",
       "      <th>29169</th>\n",
       "      <td>29169</td>\n",
       "      <td>54004</td>\n",
       "      <td>54005</td>\n",
       "      <td>What would be a strategy to write answers in a...</td>\n",
       "      <td>What is the per question weightage (marks) in ...</td>\n",
       "      <td>0</td>\n",
       "    </tr>\n",
       "    <tr>\n",
       "      <th>300528</th>\n",
       "      <td>300528</td>\n",
       "      <td>423347</td>\n",
       "      <td>423348</td>\n",
       "      <td>What are uses for Darmstadtium?</td>\n",
       "      <td>What are the uses of Darmstadtium?</td>\n",
       "      <td>1</td>\n",
       "    </tr>\n",
       "    <tr>\n",
       "      <th>9929</th>\n",
       "      <td>9929</td>\n",
       "      <td>19281</td>\n",
       "      <td>19282</td>\n",
       "      <td>How would someone start there own political pa...</td>\n",
       "      <td>What are tricks for writing essays and intervi...</td>\n",
       "      <td>0</td>\n",
       "    </tr>\n",
       "    <tr>\n",
       "      <th>286454</th>\n",
       "      <td>286454</td>\n",
       "      <td>407043</td>\n",
       "      <td>407044</td>\n",
       "      <td>What do you think life is about?</td>\n",
       "      <td>What do you think life is?</td>\n",
       "      <td>1</td>\n",
       "    </tr>\n",
       "    <tr>\n",
       "      <th>110407</th>\n",
       "      <td>110407</td>\n",
       "      <td>181022</td>\n",
       "      <td>181023</td>\n",
       "      <td>What is the length of the bond at yodlee and w...</td>\n",
       "      <td>How much higher can the demand for 30-year T-b...</td>\n",
       "      <td>0</td>\n",
       "    </tr>\n",
       "    <tr>\n",
       "      <th>245953</th>\n",
       "      <td>245953</td>\n",
       "      <td>358903</td>\n",
       "      <td>358904</td>\n",
       "      <td>I am a law student in India, wanting to pursue...</td>\n",
       "      <td>I want to pursue filmmaking. I am in 11th grad...</td>\n",
       "      <td>0</td>\n",
       "    </tr>\n",
       "    <tr>\n",
       "      <th>199755</th>\n",
       "      <td>199755</td>\n",
       "      <td>301329</td>\n",
       "      <td>301330</td>\n",
       "      <td>What is the oldest man made structure that is ...</td>\n",
       "      <td>What are the oldest man-made structures still ...</td>\n",
       "      <td>1</td>\n",
       "    </tr>\n",
       "    <tr>\n",
       "      <th>203519</th>\n",
       "      <td>203519</td>\n",
       "      <td>306169</td>\n",
       "      <td>306170</td>\n",
       "      <td>Is there a way for a tank crew to use the toil...</td>\n",
       "      <td>Do tanks have toilets?</td>\n",
       "      <td>0</td>\n",
       "    </tr>\n",
       "    <tr>\n",
       "      <th>376420</th>\n",
       "      <td>376420</td>\n",
       "      <td>507560</td>\n",
       "      <td>507561</td>\n",
       "      <td>If you own a piece of land and there is an vol...</td>\n",
       "      <td>Should I really be making career decisions now?</td>\n",
       "      <td>0</td>\n",
       "    </tr>\n",
       "    <tr>\n",
       "      <th>375782</th>\n",
       "      <td>375782</td>\n",
       "      <td>112726</td>\n",
       "      <td>87798</td>\n",
       "      <td>How can you trace a phone call legally?</td>\n",
       "      <td>How do I trace a phone call?</td>\n",
       "      <td>1</td>\n",
       "    </tr>\n",
       "  </tbody>\n",
       "</table>\n",
       "</div>"
      ],
      "text/plain": [
       "            id    qid1    qid2  \\\n",
       "29169    29169   54004   54005   \n",
       "300528  300528  423347  423348   \n",
       "9929      9929   19281   19282   \n",
       "286454  286454  407043  407044   \n",
       "110407  110407  181022  181023   \n",
       "245953  245953  358903  358904   \n",
       "199755  199755  301329  301330   \n",
       "203519  203519  306169  306170   \n",
       "376420  376420  507560  507561   \n",
       "375782  375782  112726   87798   \n",
       "\n",
       "                                                question1  \\\n",
       "29169   What would be a strategy to write answers in a...   \n",
       "300528                    What are uses for Darmstadtium?   \n",
       "9929    How would someone start there own political pa...   \n",
       "286454                   What do you think life is about?   \n",
       "110407  What is the length of the bond at yodlee and w...   \n",
       "245953  I am a law student in India, wanting to pursue...   \n",
       "199755  What is the oldest man made structure that is ...   \n",
       "203519  Is there a way for a tank crew to use the toil...   \n",
       "376420  If you own a piece of land and there is an vol...   \n",
       "375782            How can you trace a phone call legally?   \n",
       "\n",
       "                                                question2  is_duplicate  \n",
       "29169   What is the per question weightage (marks) in ...             0  \n",
       "300528                 What are the uses of Darmstadtium?             1  \n",
       "9929    What are tricks for writing essays and intervi...             0  \n",
       "286454                         What do you think life is?             1  \n",
       "110407  How much higher can the demand for 30-year T-b...             0  \n",
       "245953  I want to pursue filmmaking. I am in 11th grad...             0  \n",
       "199755  What are the oldest man-made structures still ...             1  \n",
       "203519                             Do tanks have toilets?             0  \n",
       "376420    Should I really be making career decisions now?             0  \n",
       "375782                       How do I trace a phone call?             1  "
      ]
     },
     "execution_count": 17,
     "metadata": {},
     "output_type": "execute_result"
    }
   ],
   "source": [
    "# small sample dataset\n",
    "small = train.sample(n = 10)\n",
    "small.tail(30)"
   ]
  },
  {
   "cell_type": "code",
   "execution_count": 18,
   "metadata": {},
   "outputs": [
    {
     "name": "stdout",
     "output_type": "stream",
     "text": [
      "[u'i', u'am', u'a', u'law', u'student', u'in', u'india', u',', u'wanting', u'to', u'pursue', u'a', u'career', u'in', u'graphic', u'design', u'.', u'i', u'am', u'currently', u'freelancing', u'.', u'what', u'courses', u'can', u'i', u'opt', u'for', u'after', u'my', u'degree', u'?']\n",
      "[u'i', u'am', u'a', u'law', u'student', u'in', u'india', u',', u'wanting', u'to', u'pursue', u'a', u'career', u'in', u'graphic', u'design', u'.', u'i', u'am', u'currently', u'freelancing', u'.', u'what', u'courses', u'can', u'i', u'opt', u'for', u'after', u'my', u'degree', u'?']\n"
     ]
    }
   ],
   "source": [
    "def remove(sentence, regex, lemmatize = False):\n",
    "    #[^a-zA-Z]\n",
    "    #print(sentence)\n",
    "    ret = sentence\n",
    "    #ret = re.sub(regex,' ', ret)\n",
    "    \n",
    "    ret = ret.lower()\n",
    "    \n",
    "    ret = word_tokenize(ret) #uses punkt tokenizer\n",
    "    \n",
    "    #ps = PorterStemmer()\n",
    "    #ret = [ps.stem(x) for x in ret]\n",
    "    \n",
    "    if lemmatize:\n",
    "        wnl = WordNetLemmatizer()\n",
    "        ret = [wnl.lemmatize(x) for x in ret]\n",
    "    \n",
    "    return ret\n",
    "\n",
    "def remove_dcn(sentence, lemmatize = False):\n",
    "    #[^a-zA-Z]\n",
    "    ret = sentence\n",
    "    ret = ret.lower()\n",
    "    \n",
    "    ret = prepro.tokenize(ret) #uses punkt tokenizer\n",
    "    if lemmatize:\n",
    "        wnl = WordNetLemmatizer()\n",
    "        ret = [wnl.lemmatize(x) for x in ret]\n",
    "    \n",
    "    return ret\n",
    "\n",
    "ind = 5\n",
    "print(small['question1'].apply(lambda x: remove(x, \"\")).iloc[ind])\n",
    "print(small['question1'].apply(lambda x: remove_dcn(x)).iloc[ind])"
   ]
  },
  {
   "cell_type": "code",
   "execution_count": 19,
   "metadata": {},
   "outputs": [],
   "source": [
    "# Make Dictionary of id to unique, cleaned questions \n",
    "# Also fill dictionary with encountered words\n",
    "\n",
    "id2q = {}\n",
    "vocab = {}\n",
    "for index, row in train.iterrows():\n",
    "    if not row['qid1'] in id2q:\n",
    "        word_list = remove_dcn(row['question1'])\n",
    "        vocab.update({v:1 for v in word_list})\n",
    "        id2q[row['qid1']] = word_list\n",
    "    if not row['qid2'] in id2q:\n",
    "        word_list = remove_dcn(row['question2'])\n",
    "        vocab.update({v:1 for v in word_list})\n",
    "        id2q[row['qid2']] = word_list\n"
   ]
  },
  {
   "cell_type": "code",
   "execution_count": 82,
   "metadata": {},
   "outputs": [
    {
     "name": "stdout",
     "output_type": "stream",
     "text": [
      "Percent of Data after Filtering: 0.913257380877\n",
      "(369219, 404288)\n"
     ]
    }
   ],
   "source": [
    "thresh = 26\n",
    "L = 0\n",
    "for index, row in train.iterrows():\n",
    "    mask = (len(id2q[row['qid1']]) < thresh) & (len(id2q[row['qid2']]) < thresh)\n",
    "    if mask:\n",
    "        L += 1\n",
    "print(\"Percent of Data after Filtering: \" + str(1.*(L)/post_len))\n",
    "print(L, post_len)"
   ]
  },
  {
   "cell_type": "code",
   "execution_count": 25,
   "metadata": {},
   "outputs": [
    {
     "name": "stdout",
     "output_type": "stream",
     "text": [
      "Number of Unique Questions: 537931\n",
      "\n",
      "Unique Vocab Size 113573\n"
     ]
    }
   ],
   "source": [
    "print(\"Number of Unique Questions: \" + str(len(id2q)))\n",
    "#print(id2q[80])\n",
    "#print(id2q[667])\n",
    "#print(id2q[663])\n",
    "\n",
    "print(\"\")\n",
    "print(\"Unique Vocab Size \" + str(len(vocab)))"
   ]
  },
  {
   "cell_type": "code",
   "execution_count": 26,
   "metadata": {},
   "outputs": [],
   "source": [
    "# Import Glove Embeddings \n",
    "import io "
   ]
  },
  {
   "cell_type": "code",
   "execution_count": 40,
   "metadata": {},
   "outputs": [],
   "source": [
    "# write GloVe vocab to textfile\n",
    "def record_vocab(file, file_name):\n",
    "    to_write = io.open(file_name, 'a', encoding=\"utf-8\")\n",
    "    \n",
    "    for line in f:\n",
    "        values = line.split()\n",
    "        word = values[0]\n",
    "        to_write.write(word+'\\n')\n",
    "        pass\n",
    "    to_write.close()\n",
    "    return \n",
    "# load the whole embedding into memory\n",
    "glove_dir = \"paraphrase-id-tensorflow-master/data/external/\"\n",
    "f = io.open(glove_dir + 'glove.6B.100d.txt', mode='r', encoding=\"utf-8\")\n",
    "record_vocab(f, glove_dir + 'glove_vocab.txt')\n",
    "f.close()"
   ]
  },
  {
   "cell_type": "code",
   "execution_count": 41,
   "metadata": {},
   "outputs": [
    {
     "name": "stdout",
     "output_type": "stream",
     "text": [
      "Loaded 64761 word vectors.\n"
     ]
    }
   ],
   "source": [
    "# load the whole embedding into memory\n",
    "embeddings_dir = \"dynamic-coattention-network-plus/download/dwr/\"\n",
    "f = io.open(embeddings_dir + 'glove.6B.100d.txt', mode='r', encoding=\"utf-8\")\n",
    "embeddings = {}\n",
    "for line in f:\n",
    "    values = line.split()\n",
    "    word = values[0]\n",
    "    if word in vocab:\n",
    "        coefs = np.asarray(values[1:], dtype='float32')\n",
    "        embeddings[word] = coefs\n",
    "    pass\n",
    "print('Loaded %s word vectors.' % len(embeddings))\n",
    "f.close()"
   ]
  },
  {
   "cell_type": "code",
   "execution_count": 42,
   "metadata": {},
   "outputs": [
    {
     "name": "stdout",
     "output_type": "stream",
     "text": [
      "Average OOV Count Per Quesiton: 0.153153471356\n",
      "Average OOV Count For Questions with an OOV: 1.26778899421\n",
      "Median OOV Count For Questions with an OOV: 1.0\n",
      "Average OOV Ratio Per Quesiton: 0.0118761750565\n",
      "Fraction of Quesitons with OOV: 0.120803597487\n"
     ]
    }
   ],
   "source": [
    "avg_oov_per_q = 0\n",
    "avg_oov_ratio_per_q = 0\n",
    "qs_with_oov = 0\n",
    "avg_oov_q_with_oov = 0\n",
    "oov_counts = []\n",
    "q_count = len(id2q)\n",
    "for v in id2q.values():\n",
    "    oov_count = 0\n",
    "    oov_ratio = 1\n",
    "    for w in v:\n",
    "        if not w in embeddings:\n",
    "            oov_count += 1.\n",
    "        pass\n",
    "    avg_oov_per_q += oov_count/q_count\n",
    "    avg_oov_q_with_oov += int(oov_count > 0.5)*oov_count\n",
    "    \n",
    "    if oov_count>.5:\n",
    "        oov_counts.append(oov_count)\n",
    "    \n",
    "    avg_oov_ratio_per_q += (oov_count/len(v))/q_count\n",
    "    qs_with_oov += int(oov_count > 0.5)\n",
    "    \n",
    "    pass\n",
    "\n",
    "print(\"Average OOV Count Per Quesiton: \" + str(avg_oov_per_q))\n",
    "print(\"Average OOV Count For Questions with an OOV: \" + str(avg_oov_q_with_oov/qs_with_oov))\n",
    "print(\"Median OOV Count For Questions with an OOV: \" + str(np.median(oov_counts)))\n",
    "\n",
    "print(\"Average OOV Ratio Per Quesiton: \" + str(avg_oov_ratio_per_q))\n",
    "print(\"Fraction of Quesitons with OOV: \" + str(1.*qs_with_oov/q_count))\n"
   ]
  },
  {
   "cell_type": "code",
   "execution_count": 46,
   "metadata": {},
   "outputs": [
    {
     "data": {
      "image/png": "[encoded data removed]",
      "text/plain": [
       "<matplotlib.figure.Figure at 0x1a7034cd90>"
      ]
     },
     "metadata": {},
     "output_type": "display_data"
    }
   ],
   "source": [
    "from matplotlib import pyplot as plt\n",
    "plt.hist(oov_counts, 50, range = (0,10))\n",
    "plt.title('Out of Vocab Word Counts')\n",
    "plt.show()"
   ]
  },
  {
   "cell_type": "code",
   "execution_count": 47,
   "metadata": {},
   "outputs": [
    {
     "data": {
      "image/png": "[encoded data removed]",
      "text/plain": [
       "<matplotlib.figure.Figure at 0x1a6e5dc4d0>"
      ]
     },
     "metadata": {},
     "output_type": "display_data"
    }
   ],
   "source": [
    "q_lengths = [len(q) for q in id2q.values()]\n",
    "plt.hist(q_lengths, 100)\n",
    "plt.title('Question Lengths')\n",
    "plt.show()"
   ]
  },
  {
   "cell_type": "code",
   "execution_count": 59,
   "metadata": {},
   "outputs": [
    {
     "data": {
      "text/plain": [
       "1443.0"
      ]
     },
     "execution_count": 59,
     "metadata": {},
     "output_type": "execute_result"
    }
   ],
   "source": [
    "1.*len([i for i in q_lengths if i>50])"
   ]
  },
  {
   "cell_type": "code",
   "execution_count": 88,
   "metadata": {},
   "outputs": [
    {
     "data": {
      "text/plain": [
       "0.6308003205635586"
      ]
     },
     "execution_count": 88,
     "metadata": {},
     "output_type": "execute_result"
    }
   ],
   "source": [
    "counts = train.is_duplicate.value_counts()\n",
    "1.*counts[0]/(counts[0]+counts[1])"
   ]
  },
  {
   "cell_type": "code",
   "execution_count": null,
   "metadata": {},
   "outputs": [],
   "source": []
  }
 ],
 "metadata": {
  "kernelspec": {
   "display_name": "Python [conda env:anaconda2]",
   "language": "python",
   "name": "conda-env-anaconda2-py"
  },
  "language_info": {
   "codemirror_mode": {
    "name": "ipython",
    "version": 2
   },
   "file_extension": ".py",
   "mimetype": "text/x-python",
   "name": "python",
   "nbconvert_exporter": "python",
   "pygments_lexer": "ipython2",
   "version": "2.7.13"
  }
 },
 "nbformat": 4,
 "nbformat_minor": 2
}
