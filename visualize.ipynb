{
 "cells": [
  {
   "cell_type": "code",
   "execution_count": 1,
   "metadata": {},
   "outputs": [
    {
     "name": "stderr",
     "output_type": "stream",
     "text": [
      "/Users/Arnav/anaconda2/envs/py36/lib/python3.6/importlib/_bootstrap.py:219: RuntimeWarning: compiletime version 3.5 of module 'tensorflow.python.framework.fast_tensor_util' does not match runtime version 3.6\n",
      "  return f(*args, **kwds)\n"
     ]
    },
    {
     "name": "stdout",
     "output_type": "stream",
     "text": [
      "Tensorflow Version ---------->  1.4.0\n"
     ]
    }
   ],
   "source": [
    "%load_ext autoreload\n",
    "%autoreload 2\n",
    "\n",
    "import os, sys\n",
    "sys.path.append('dynamic-coattention-network-plus')\n",
    "sys.path.append('dynamic-coattention-network-plus/question_answering')\n",
    "import tensorflow as tf \n",
    "from duplicate_questions.models.siamese_bilstm.siamese_bilstm import SiameseBiLSTM\n",
    "from utils import get_data_paths\n",
    "import numpy as np\n",
    "import seaborn\n",
    "from matplotlib import figure\n",
    "from matplotlib import pyplot as plt\n",
    "from question_answering.dataset import SquadDataset\n",
    "from main import to_siamese, ImportModel\n",
    "import json"
   ]
  },
  {
   "cell_type": "code",
   "execution_count": 4,
   "metadata": {},
   "outputs": [],
   "source": [
    "data_dir = 'dynamic-coattention-network-plus/data/squad'\n",
    "embed_path = \"dynamic-coattention-network-plus/data/squad/glove.trimmed.300.npz\"\n",
    "max_q_len = 40\n",
    "max_p_len = 400\n",
    "siamese_model_num = '04'\n",
    "embeddings = np.load(embed_path)['glove']"
   ]
  },
  {
   "cell_type": "code",
   "execution_count": 5,
   "metadata": {},
   "outputs": [
    {
     "name": "stderr",
     "output_type": "stream",
     "text": [
      "WARNING:duplicate_questions.models.siamese_bilstm.siamese_bilstm:UNUSED VALUES IN CONFIG DICT: {'model_load_dir': 'scripts/run_model/../../models/baseline_siamese/04', 'dataindexer_load_path': None, 'train_file': 'scripts/run_model/../../data/processed/quora/train_cleaned_train_split.csv', 'val_file': 'scripts/run_model/../../data/processed/quora/train_cleaned_val_split.csv', 'test_file': 'scripts/run_model/../../data/processed/quora/test_final.csv', 'batch_size': 128, 'num_epochs': 10, 'early_stopping_patience': 10, 'pretrained_embeddings_file_path': 'scripts/run_model/../../data/external/glove.6B.300d.txt', 'log_period': 10, 'val_period': 250, 'log_dir': 'scripts/run_model/../../logs/', 'save_period': 250, 'save_dir': 'scripts/run_model/../../models/', 'run_id': '04', 'model_name': 'baseline_siamese', 'reweight_predictions_for_kaggle': False}\n",
      "INFO:duplicate_questions.models.base_tf_model:Building graph...\n"
     ]
    },
    {
     "name": "stdout",
     "output_type": "stream",
     "text": [
      "INFO:tensorflow:Restoring parameters from paraphrase-id-tensorflow-master/models/baseline_siamese/04/baseline_siamese-04-10\n"
     ]
    },
    {
     "name": "stderr",
     "output_type": "stream",
     "text": [
      "INFO:tensorflow:Restoring parameters from paraphrase-id-tensorflow-master/models/baseline_siamese/04/baseline_siamese-04-10\n"
     ]
    }
   ],
   "source": [
    "# get config file for siamese model\n",
    "siamese_config = 'paraphrase-id-tensorflow-master/logs/baseline_siamese/{}/trainparams.json'.format(siamese_model_num)\n",
    "with open(siamese_config, 'r') as f:\n",
    "    siamese_config = json.load(f)\n",
    "    siamese_config['mode'] = 'test'\n",
    "    siamese_config['input_sequence_length'] = 40\n",
    "checkpoint_dir = 'paraphrase-id-tensorflow-master/models/baseline_siamese/{}/'.format(siamese_model_num)\n",
    "siamese_graph = ImportModel(checkpoint_dir, siamese_config, embeddings)"
   ]
  },
  {
   "cell_type": "code",
   "execution_count": 6,
   "metadata": {},
   "outputs": [],
   "source": [
    "val_words_dir = data_dir + '/val.question'\n",
    "with open(val_words_dir, 'r') as f:\n",
    "    lines = f.readlines()\n",
    "    all_questions = [x.split() for x in lines]\n",
    "    pass"
   ]
  },
  {
   "cell_type": "code",
   "execution_count": 7,
   "metadata": {},
   "outputs": [],
   "source": [
    "dev = SquadDataset(*get_data_paths(data_dir, name='val'),\n",
    "                         max_question_length=max_q_len,\n",
    "                         max_paragraph_length=max_p_len)"
   ]
  },
  {
   "cell_type": "code",
   "execution_count": 33,
   "metadata": {},
   "outputs": [
    {
     "name": "stdout",
     "output_type": "stream",
     "text": [
      "Question #18\n",
      "([32, 13, 3, 149, 3562, 611, 9, 21, 2452, 8, 3, 8827, 132, 18, 0, 0, 0, 0, 0, 0, 0, 0, 0, 0, 0, 0, 0, 0, 0, 0, 0, 0, 0, 0, 0, 0, 0, 0, 0, 0],)\n",
      "['What', 'was', 'the', 'largest', 'ocean', 'referred', 'to', 'that', 'existed', 'in', 'the', 'Devonian', 'period', '?']\n",
      "(14,)\n"
     ]
    }
   ],
   "source": [
    "feed_dict_inputs = dev.get_batch(1, replace = False, shuffle = False)\n",
    "question, paragraphs, question_lengths, paragraph_lengths, answers = feed_dict_inputs\n",
    "M, m, A, a = siamese_graph.run(question)\n",
    "question_words = all_questions[dev.epoch_sampled-1]\n",
    "print('Question #' + str(dev.epoch_sampled))\n",
    "print(question)\n",
    "print(question_words)\n",
    "print(question_lengths)\n"
   ]
  },
  {
   "cell_type": "code",
   "execution_count": 34,
   "metadata": {},
   "outputs": [
    {
     "data": {
      "text/plain": [
       "(1, 40, 40)"
      ]
     },
     "execution_count": 34,
     "metadata": {},
     "output_type": "execute_result"
    }
   ],
   "source": [
    "A.shape"
   ]
  },
  {
   "cell_type": "code",
   "execution_count": 89,
   "metadata": {},
   "outputs": [
    {
     "data": {
      "image/png": "[encoded data removed]",
      "text/plain": [
       "<matplotlib.figure.Figure at 0x1c3d39b358>"
      ]
     },
     "metadata": {},
     "output_type": "display_data"
    }
   ],
   "source": [
    "curtail = -1#len(question_words)\n",
    "cmap = 'Greys'\n",
    "heat_map = A[0, :curtail, :len(question_words)].T\n",
    "\n",
    "'''\n",
    "plt.figure(figsize = ((40/31)*9, 9))\n",
    "plt.imshow(heat_map, vmin=0, vmax=1., cmap = cmap)\n",
    "plt.xticks(np.arange(len(question_words)), question_words, rotation='vertical')\n",
    "plt.yticks(np.arange(len(question_words)), question_words)\n",
    "plt.show()\n",
    "\n",
    "#plt.figure(figsize = (20,1))\n",
    "#figure.figaspect(4.)\n",
    "plt.imshow(a[0], vmin=0, vmax=1., cmap = cmap)\n",
    "plt.xticks(np.arange(len(question_words)), question_words, rotation='vertical')\n",
    "plt.yticks([])\n",
    "plt.show()\n",
    "'''\n",
    "\n",
    "f, axarr = plt.subplots(2, sharex=True, gridspec_kw = {'height_ratios':[len(question_words)-2, 1]}, figsize=((40/31)*9, 9))\n",
    "axarr[0].imshow(heat_map, vmin=0, vmax=1., cmap = cmap)\n",
    "#axarr[0].xticks(, , )\n",
    "#axarr[0].yticks(, )\n",
    "\n",
    "plt.setp(axarr[0], xticks=[], xticklabels=[],\n",
    "        yticks=np.arange(len(question_words)), yticklabels = question_words)\n",
    "#for tick in axarr[0].get_xticklabels():\n",
    "#        tick.set_rotation(90)\n",
    "\n",
    "\n",
    "axarr[1].imshow(a[0], vmin=0, vmax=1., cmap = cmap)\n",
    "#axarr[1].xticks(np.arange(len(question_words)), question_words, rotation='vertical')\n",
    "#axarr[1].yticks([])\n",
    "\n",
    "plt.setp(axarr[1], xticks=np.arange(len(question_words)), xticklabels=question_words,\n",
    "        yticks=[], yticklabels = [])\n",
    "for tick in axarr[1].get_xticklabels():\n",
    "        tick.set_rotation(90)\n",
    "plt.show()"
   ]
  },
  {
   "cell_type": "code",
   "execution_count": 87,
   "metadata": {},
   "outputs": [
    {
     "data": {
      "image/png": "[encoded data removed]",
      "text/plain": [
       "<matplotlib.figure.Figure at 0x1c3d1a6b70>"
      ]
     },
     "metadata": {},
     "output_type": "display_data"
    }
   ],
   "source": [
    "ax1 = plt.subplot2grid((2, 5), (0, 0), colspan = 5)\n",
    "ax2 = plt.subplot2grid((2, 5), (1, 0), colspan = 5)\n",
    "#f, axarr = plt.subplots(2, sharex=True, gridspec_kw = {'height_ratios':[len(question_words), 1]}, figsize=((40/31)*9, 9))\n",
    "\n",
    "ax1.imshow(heat_map, vmin=0, vmax=1., cmap = cmap)\n",
    "#axarr[0].xticks(, , )\n",
    "#axarr[0].yticks(, )\n",
    "\n",
    "plt.setp(axarr[0], xticks=[], xticklabels=[],\n",
    "        yticks=np.arange(len(question_words)), yticklabels = question_words)\n",
    "#for tick in axarr[0].get_xticklabels():\n",
    "#        tick.set_rotation(90)\n",
    "\n",
    "\n",
    "ax2.imshow(a[0], vmin=0, vmax=1., cmap = cmap)\n",
    "#axarr[1].xticks(np.arange(len(question_words)), question_words, rotation='vertical')\n",
    "#axarr[1].yticks([])\n",
    "\n",
    "plt.setp(axarr[1], xticks=np.arange(len(question_words)), xticklabels=question_words,\n",
    "        yticks=[], yticklabels = [])\n",
    "for tick in axarr[1].get_xticklabels():\n",
    "        tick.set_rotation(90)\n",
    "plt.show()"
   ]
  },
  {
   "cell_type": "code",
   "execution_count": null,
   "metadata": {},
   "outputs": [],
   "source": [
    "print(np.sum(A[0], axis = 1))\n",
    "#print(a[0])\n",
    "print(np.sum(a[0, 0, :]))"
   ]
  },
  {
   "cell_type": "code",
   "execution_count": 85,
   "metadata": {},
   "outputs": [
    {
     "data": {
      "image/png": "[encoded data removed]",
      "text/plain": [
       "<matplotlib.figure.Figure at 0x1c3d0133c8>"
      ]
     },
     "metadata": {},
     "output_type": "display_data"
    }
   ],
   "source": [
    "\n"
   ]
  },
  {
   "cell_type": "code",
   "execution_count": null,
   "metadata": {},
   "outputs": [],
   "source": []
  }
 ],
 "metadata": {
  "kernelspec": {
   "display_name": "Python [conda env:py36]",
   "language": "python",
   "name": "conda-env-py36-py"
  },
  "language_info": {
   "codemirror_mode": {
    "name": "ipython",
    "version": 3
   },
   "file_extension": ".py",
   "mimetype": "text/x-python",
   "name": "python",
   "nbconvert_exporter": "python",
   "pygments_lexer": "ipython3",
   "version": "3.6.4"
  }
 },
 "nbformat": 4,
 "nbformat_minor": 2
}
