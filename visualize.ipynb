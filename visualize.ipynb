{
 "cells": [
  {
   "cell_type": "code",
   "execution_count": 1,
   "metadata": {},
   "outputs": [
    {
     "name": "stderr",
     "output_type": "stream",
     "text": [
      "/Users/Arnav/anaconda2/envs/py36/lib/python3.6/importlib/_bootstrap.py:219: RuntimeWarning: compiletime version 3.5 of module 'tensorflow.python.framework.fast_tensor_util' does not match runtime version 3.6\n",
      "  return f(*args, **kwds)\n"
     ]
    },
    {
     "name": "stdout",
     "output_type": "stream",
     "text": [
      "Tensorflow Version ---------->  1.4.0\n"
     ]
    }
   ],
   "source": [
    "%load_ext autoreload\n",
    "%autoreload 2\n",
    "\n",
    "\n",
    "import os, sys\n",
    "sys.path.append('dynamic-coattention-network-plus')\n",
    "sys.path.append('dynamic-coattention-network-plus/question_answering')\n",
    "import tensorflow as tf \n",
    "from duplicate_questions.models.siamese_bilstm.siamese_bilstm import SiameseBiLSTM\n",
    "from utils import get_data_paths\n",
    "import numpy as np\n",
    "import seaborn\n",
    "from matplotlib import pyplot as plt\n",
    "from question_answering.dataset import SquadDataset\n",
    "from main import to_siamese, ImportModel\n",
    "import json"
   ]
  },
  {
   "cell_type": "code",
   "execution_count": 2,
   "metadata": {},
   "outputs": [],
   "source": [
    "data_dir = 'dynamic-coattention-network-plus/data/squad'\n",
    "embed_path = \"dynamic-coattention-network-plus/data/squad/glove.trimmed.300.npz\"\n",
    "max_q_len = 31\n",
    "max_p_len = 400\n",
    "siamese_model_num = '03'\n",
    "embeddings = np.load(embed_path)['glove']\n"
   ]
  },
  {
   "cell_type": "code",
   "execution_count": 3,
   "metadata": {},
   "outputs": [
    {
     "name": "stderr",
     "output_type": "stream",
     "text": [
      "WARNING:duplicate_questions.models.siamese_bilstm.siamese_bilstm:UNUSED VALUES IN CONFIG DICT: {'model_load_dir': 'scripts/run_model/../../models/baseline_siamese/03', 'dataindexer_load_path': None, 'train_file': 'scripts/run_model/../../data/processed/quora/train_cleaned_train_split.csv', 'val_file': 'scripts/run_model/../../data/processed/quora/train_cleaned_val_split.csv', 'test_file': 'scripts/run_model/../../data/processed/quora/test_final.csv', 'batch_size': 128, 'num_epochs': 10, 'early_stopping_patience': 10, 'pretrained_embeddings_file_path': 'scripts/run_model/../../data/external/glove.6B.300d.txt', 'log_period': 10, 'val_period': 250, 'log_dir': 'scripts/run_model/../../logs/', 'save_period': 250, 'save_dir': 'scripts/run_model/../../models/', 'run_id': '03', 'model_name': 'baseline_siamese', 'reweight_predictions_for_kaggle': False}\n",
      "INFO:duplicate_questions.models.base_tf_model:Building graph...\n"
     ]
    },
    {
     "name": "stdout",
     "output_type": "stream",
     "text": [
      "INFO:tensorflow:Restoring parameters from paraphrase-id-tensorflow-master/models/baseline_siamese/03/baseline_siamese-03-10\n"
     ]
    },
    {
     "name": "stderr",
     "output_type": "stream",
     "text": [
      "INFO:tensorflow:Restoring parameters from paraphrase-id-tensorflow-master/models/baseline_siamese/03/baseline_siamese-03-10\n"
     ]
    }
   ],
   "source": [
    "# get config file for siamese model\n",
    "siamese_config = 'paraphrase-id-tensorflow-master/logs/baseline_siamese/{}/trainparams.json'.format(siamese_model_num)\n",
    "with open(siamese_config, 'r') as f:\n",
    "    siamese_config = json.load(f)\n",
    "    siamese_config['mode'] = 'test'\n",
    "    siamese_config['input_sequence_length'] = 31\n",
    "checkpoint_dir = 'paraphrase-id-tensorflow-master/models/baseline_siamese/{}/'.format(siamese_model_num)\n",
    "siamese_graph = ImportModel(checkpoint_dir, siamese_config, embeddings)"
   ]
  },
  {
   "cell_type": "code",
   "execution_count": 4,
   "metadata": {},
   "outputs": [],
   "source": [
    "val_words_dir = data_dir + '/val.question'\n",
    "with open(val_words_dir, 'r') as f:\n",
    "    lines = f.readlines()\n",
    "    all_questions = [x.split() for x in lines]\n",
    "    pass"
   ]
  },
  {
   "cell_type": "code",
   "execution_count": 5,
   "metadata": {},
   "outputs": [],
   "source": [
    "dev = SquadDataset(*get_data_paths(data_dir, name='val'),\n",
    "                         max_question_length=max_q_len,\n",
    "                         max_paragraph_length=max_p_len)"
   ]
  },
  {
   "cell_type": "code",
   "execution_count": 6,
   "metadata": {},
   "outputs": [
    {
     "name": "stdout",
     "output_type": "stream",
     "text": [
      "Question #1\n",
      "([11093, 455, 1001, 2789, 2698, 248, 61, 7128, 9, 1530, 56, 25, 376, 18, 0, 0, 0, 0, 0, 0, 0, 0, 0, 0, 0, 0, 0, 0, 0, 0, 0],)\n",
      "['Who', 'served', 'as', 'High', 'Commissioner', 'of', 'North', 'Africa', 'after', 'Darlan', \"'s\", 'death', '?']\n"
     ]
    }
   ],
   "source": [
    "feed_dict_inputs = dev.get_batch(1, replace = False, shuffle = False)\n",
    "question, paragraphs, question_lengths, paragraph_lengths, answers = feed_dict_inputs\n",
    "M, m, A, a = siamese_graph.run(question)\n",
    "question_words = all_questions[dev.epoch_sampled]\n",
    "print('Question #' + str(dev.epoch_sampled))\n",
    "print(question)\n",
    "print(question_words)\n"
   ]
  },
  {
   "cell_type": "code",
   "execution_count": 7,
   "metadata": {},
   "outputs": [
    {
     "name": "stdout",
     "output_type": "stream",
     "text": [
      "(1, 31, 300) (1, 300) (1, 40, 31) (1, 1, 40)\n"
     ]
    }
   ],
   "source": [
    "print(M.shape, m.shape, A.shape, a.shape)"
   ]
  },
  {
   "cell_type": "code",
   "execution_count": 8,
   "metadata": {},
   "outputs": [
    {
     "data": {
      "image/png": "[encoded data removed]",
      "text/plain": [
       "<matplotlib.figure.Figure at 0x1c313e5358>"
      ]
     },
     "metadata": {},
     "output_type": "display_data"
    },
    {
     "data": {
      "image/png": "[encoded data removed]",
      "text/plain": [
       "<matplotlib.figure.Figure at 0x1c313b7cc0>"
      ]
     },
     "metadata": {},
     "output_type": "display_data"
    },
    {
     "name": "stdout",
     "output_type": "stream",
     "text": [
      "10\n"
     ]
    }
   ],
   "source": [
    "curtail =-1#len(question_words)\n",
    "heat_map = A[0, :curtail, :curtail]\n",
    "plt.imshow(heat_map, vmin=0, vmax=1.)\n",
    "plt.xticks(np.arange(len(question_words)), question_words, rotation='vertical')\n",
    "plt.yticks(np.arange(len(question_words)), question_words)\n",
    "plt.show()\n",
    "\n",
    "plt.imshow(a[0])\n",
    "plt.xticks(np.arange(len(question_words)), question_words, rotation='vertical')\n",
    "plt.show()\n",
    "\n",
    "print(np.argmax(a[0]))"
   ]
  },
  {
   "cell_type": "code",
   "execution_count": 9,
   "metadata": {},
   "outputs": [
    {
     "data": {
      "text/plain": [
       "array([ 0.99999839,  0.99999774,  0.99999833,  0.9999975 ,  0.9999975 ,\n",
       "        0.99999797,  0.99999833,  0.99999702,  0.99999827,  0.99999809,\n",
       "        0.99999702,  0.99999893,  0.99999833,  0.99999762,  0.99999821,\n",
       "        0.99999666,  0.99999833,  0.99999857,  0.99999845,  0.99999779,\n",
       "        0.99999827,  0.99999833,  0.9999975 ,  0.99999845,  0.99999785,\n",
       "        0.99999785,  0.99999821,  0.99999797,  0.99999797,  0.99999774,\n",
       "        0.99999702,  0.99999845,  0.99999827,  0.99999768,  0.99999803,\n",
       "        0.99999797,  0.99999774,  0.99999833,  0.99999768,  0.99999744], dtype=float32)"
      ]
     },
     "execution_count": 9,
     "metadata": {},
     "output_type": "execute_result"
    }
   ],
   "source": [
    "np.sum(A[0], axis = 1)"
   ]
  },
  {
   "cell_type": "code",
   "execution_count": null,
   "metadata": {},
   "outputs": [],
   "source": []
  },
  {
   "cell_type": "code",
   "execution_count": null,
   "metadata": {},
   "outputs": [],
   "source": []
  }
 ],
 "metadata": {
  "kernelspec": {
   "display_name": "Python [conda env:py36]",
   "language": "python",
   "name": "conda-env-py36-py"
  },
  "language_info": {
   "codemirror_mode": {
    "name": "ipython",
    "version": 3
   },
   "file_extension": ".py",
   "mimetype": "text/x-python",
   "name": "python",
   "nbconvert_exporter": "python",
   "pygments_lexer": "ipython3",
   "version": "3.6.4"
  }
 },
 "nbformat": 4,
 "nbformat_minor": 2
}
