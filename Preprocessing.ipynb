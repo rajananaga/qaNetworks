{
 "cells": [
  {
   "cell_type": "code",
   "execution_count": 1,
   "metadata": {},
   "outputs": [
    {
     "name": "stdout",
     "output_type": "stream",
     "text": [
      "Requirement already satisfied: nltk in /Users/Arnav/anaconda2/lib/python2.7/site-packages\n",
      "Requirement already satisfied: six in /Users/Arnav/anaconda2/lib/python2.7/site-packages (from nltk)\n",
      "\u001b[33mYou are using pip version 9.0.1, however version 10.0.0 is available.\n",
      "You should consider upgrading via the 'pip install --upgrade pip' command.\u001b[0m\n"
     ]
    }
   ],
   "source": [
    "!pip install nltk"
   ]
  },
  {
   "cell_type": "code",
   "execution_count": 216,
   "metadata": {},
   "outputs": [
    {
     "name": "stdout",
     "output_type": "stream",
     "text": [
      "[nltk_data] Downloading package punkt to /Users/Arnav/nltk_data...\n",
      "[nltk_data]   Package punkt is already up-to-date!\n",
      "[nltk_data] Downloading package wordnet to /Users/Arnav/nltk_data...\n",
      "[nltk_data]   Package wordnet is already up-to-date!\n"
     ]
    },
    {
     "data": {
      "text/html": [
       "<div>\n",
       "<style>\n",
       "    .dataframe thead tr:only-child th {\n",
       "        text-align: right;\n",
       "    }\n",
       "\n",
       "    .dataframe thead th {\n",
       "        text-align: left;\n",
       "    }\n",
       "\n",
       "    .dataframe tbody tr th {\n",
       "        vertical-align: top;\n",
       "    }\n",
       "</style>\n",
       "<table border=\"1\" class=\"dataframe\">\n",
       "  <thead>\n",
       "    <tr style=\"text-align: right;\">\n",
       "      <th></th>\n",
       "      <th>id</th>\n",
       "      <th>qid1</th>\n",
       "      <th>qid2</th>\n",
       "      <th>question1</th>\n",
       "      <th>question2</th>\n",
       "      <th>is_duplicate</th>\n",
       "    </tr>\n",
       "  </thead>\n",
       "  <tbody>\n",
       "    <tr>\n",
       "      <th>0</th>\n",
       "      <td>0</td>\n",
       "      <td>1</td>\n",
       "      <td>2</td>\n",
       "      <td>What is the step by step guide to invest in sh...</td>\n",
       "      <td>What is the step by step guide to invest in sh...</td>\n",
       "      <td>0</td>\n",
       "    </tr>\n",
       "    <tr>\n",
       "      <th>1</th>\n",
       "      <td>1</td>\n",
       "      <td>3</td>\n",
       "      <td>4</td>\n",
       "      <td>What is the story of Kohinoor (Koh-i-Noor) Dia...</td>\n",
       "      <td>What would happen if the Indian government sto...</td>\n",
       "      <td>0</td>\n",
       "    </tr>\n",
       "    <tr>\n",
       "      <th>2</th>\n",
       "      <td>2</td>\n",
       "      <td>5</td>\n",
       "      <td>6</td>\n",
       "      <td>How can I increase the speed of my internet co...</td>\n",
       "      <td>How can Internet speed be increased by hacking...</td>\n",
       "      <td>0</td>\n",
       "    </tr>\n",
       "    <tr>\n",
       "      <th>3</th>\n",
       "      <td>3</td>\n",
       "      <td>7</td>\n",
       "      <td>8</td>\n",
       "      <td>Why am I mentally very lonely? How can I solve...</td>\n",
       "      <td>Find the remainder when [math]23^{24}[/math] i...</td>\n",
       "      <td>0</td>\n",
       "    </tr>\n",
       "    <tr>\n",
       "      <th>4</th>\n",
       "      <td>4</td>\n",
       "      <td>9</td>\n",
       "      <td>10</td>\n",
       "      <td>Which one dissolve in water quikly sugar, salt...</td>\n",
       "      <td>Which fish would survive in salt water?</td>\n",
       "      <td>0</td>\n",
       "    </tr>\n",
       "  </tbody>\n",
       "</table>\n",
       "</div>"
      ],
      "text/plain": [
       "   id  qid1  qid2                                          question1  \\\n",
       "0   0     1     2  What is the step by step guide to invest in sh...   \n",
       "1   1     3     4  What is the story of Kohinoor (Koh-i-Noor) Dia...   \n",
       "2   2     5     6  How can I increase the speed of my internet co...   \n",
       "3   3     7     8  Why am I mentally very lonely? How can I solve...   \n",
       "4   4     9    10  Which one dissolve in water quikly sugar, salt...   \n",
       "\n",
       "                                           question2  is_duplicate  \n",
       "0  What is the step by step guide to invest in sh...             0  \n",
       "1  What would happen if the Indian government sto...             0  \n",
       "2  How can Internet speed be increased by hacking...             0  \n",
       "3  Find the remainder when [math]23^{24}[/math] i...             0  \n",
       "4            Which fish would survive in salt water?             0  "
      ]
     },
     "execution_count": 216,
     "metadata": {},
     "output_type": "execute_result"
    }
   ],
   "source": [
    "import numpy as np \n",
    "import pandas as pd    \n",
    "import bs4 as bs\n",
    "import nltk\n",
    "from nltk.tokenize import sent_tokenize\n",
    "import re\n",
    "from nltk.stem import PorterStemmer\n",
    "from nltk.tag import pos_tag\n",
    "from nltk import sent_tokenize\n",
    "from nltk.corpus import stopwords\n",
    "from nltk.corpus import wordnet\n",
    "from nltk.stem import WordNetLemmatizer\n",
    "nltk.download('punkt')\n",
    "nltk.download('wordnet')\n",
    "from nltk import word_tokenize, sent_tokenize\n",
    "\n",
    "import dynamic_coattention_network_plus.question_answering.preprocessing.squad_preprocess as prepro\n",
    "\n",
    "import tensorflow as tf\n",
    "\n",
    "data_dir = 'data/'\n",
    "train = pd.read_csv(data_dir + \"train.csv\", encoding=\"utf-8\")\n",
    "train.head()"
   ]
  },
  {
   "cell_type": "code",
   "execution_count": 274,
   "metadata": {},
   "outputs": [
    {
     "data": {
      "text/html": [
       "<div>\n",
       "<style>\n",
       "    .dataframe thead tr:only-child th {\n",
       "        text-align: right;\n",
       "    }\n",
       "\n",
       "    .dataframe thead th {\n",
       "        text-align: left;\n",
       "    }\n",
       "\n",
       "    .dataframe tbody tr th {\n",
       "        vertical-align: top;\n",
       "    }\n",
       "</style>\n",
       "<table border=\"1\" class=\"dataframe\">\n",
       "  <thead>\n",
       "    <tr style=\"text-align: right;\">\n",
       "      <th></th>\n",
       "      <th>id</th>\n",
       "      <th>qid1</th>\n",
       "      <th>qid2</th>\n",
       "      <th>question1</th>\n",
       "      <th>question2</th>\n",
       "      <th>is_duplicate</th>\n",
       "    </tr>\n",
       "  </thead>\n",
       "  <tbody>\n",
       "    <tr>\n",
       "      <th>400822</th>\n",
       "      <td>400822</td>\n",
       "      <td>152874</td>\n",
       "      <td>534186</td>\n",
       "      <td>What is the limit on withdrawal through a with...</td>\n",
       "      <td>How do I transfer a fixed deposit account from...</td>\n",
       "      <td>0</td>\n",
       "    </tr>\n",
       "    <tr>\n",
       "      <th>62499</th>\n",
       "      <td>62499</td>\n",
       "      <td>108922</td>\n",
       "      <td>108923</td>\n",
       "      <td>How do I start a drone business?</td>\n",
       "      <td>How much does it cost to start a drone business?</td>\n",
       "      <td>1</td>\n",
       "    </tr>\n",
       "    <tr>\n",
       "      <th>336514</th>\n",
       "      <td>336514</td>\n",
       "      <td>463880</td>\n",
       "      <td>463881</td>\n",
       "      <td>What episode does Temari have her hair down?</td>\n",
       "      <td>How do I smooth down cowlicks in my hair?</td>\n",
       "      <td>0</td>\n",
       "    </tr>\n",
       "    <tr>\n",
       "      <th>330481</th>\n",
       "      <td>330481</td>\n",
       "      <td>457266</td>\n",
       "      <td>457267</td>\n",
       "      <td>Hlo please help I also want to leran hacking, ...</td>\n",
       "      <td>Why don't shipping companies put ads (food ads...</td>\n",
       "      <td>0</td>\n",
       "    </tr>\n",
       "    <tr>\n",
       "      <th>22458</th>\n",
       "      <td>22458</td>\n",
       "      <td>37558</td>\n",
       "      <td>42138</td>\n",
       "      <td>What's the least painful way to die?</td>\n",
       "      <td>Which is the least painful way to die?</td>\n",
       "      <td>1</td>\n",
       "    </tr>\n",
       "    <tr>\n",
       "      <th>282105</th>\n",
       "      <td>282105</td>\n",
       "      <td>401987</td>\n",
       "      <td>401988</td>\n",
       "      <td>Which laptop should I buy under range of 35K Rs?</td>\n",
       "      <td>Which laptop should I buy in the range of 45K?</td>\n",
       "      <td>0</td>\n",
       "    </tr>\n",
       "    <tr>\n",
       "      <th>402464</th>\n",
       "      <td>402464</td>\n",
       "      <td>60904</td>\n",
       "      <td>63160</td>\n",
       "      <td>How do I make a music video with photos?</td>\n",
       "      <td>How can i find a music video?</td>\n",
       "      <td>0</td>\n",
       "    </tr>\n",
       "    <tr>\n",
       "      <th>200277</th>\n",
       "      <td>200277</td>\n",
       "      <td>302004</td>\n",
       "      <td>302005</td>\n",
       "      <td>Why don't left government of Kerala merge in P...</td>\n",
       "      <td>What's the best way to reject someone (especia...</td>\n",
       "      <td>0</td>\n",
       "    </tr>\n",
       "    <tr>\n",
       "      <th>48842</th>\n",
       "      <td>48842</td>\n",
       "      <td>37339</td>\n",
       "      <td>43413</td>\n",
       "      <td>Who do you think will win the 2016 presidentia...</td>\n",
       "      <td>Who will win the 2016 United States Presidenti...</td>\n",
       "      <td>1</td>\n",
       "    </tr>\n",
       "    <tr>\n",
       "      <th>293511</th>\n",
       "      <td>293511</td>\n",
       "      <td>415283</td>\n",
       "      <td>206982</td>\n",
       "      <td>What is the difference between 18-55mm and 18-...</td>\n",
       "      <td>What should I do whether I have Canon 18-55 + ...</td>\n",
       "      <td>0</td>\n",
       "    </tr>\n",
       "  </tbody>\n",
       "</table>\n",
       "</div>"
      ],
      "text/plain": [
       "            id    qid1    qid2  \\\n",
       "400822  400822  152874  534186   \n",
       "62499    62499  108922  108923   \n",
       "336514  336514  463880  463881   \n",
       "330481  330481  457266  457267   \n",
       "22458    22458   37558   42138   \n",
       "282105  282105  401987  401988   \n",
       "402464  402464   60904   63160   \n",
       "200277  200277  302004  302005   \n",
       "48842    48842   37339   43413   \n",
       "293511  293511  415283  206982   \n",
       "\n",
       "                                                question1  \\\n",
       "400822  What is the limit on withdrawal through a with...   \n",
       "62499                    How do I start a drone business?   \n",
       "336514       What episode does Temari have her hair down?   \n",
       "330481  Hlo please help I also want to leran hacking, ...   \n",
       "22458                What's the least painful way to die?   \n",
       "282105   Which laptop should I buy under range of 35K Rs?   \n",
       "402464           How do I make a music video with photos?   \n",
       "200277  Why don't left government of Kerala merge in P...   \n",
       "48842   Who do you think will win the 2016 presidentia...   \n",
       "293511  What is the difference between 18-55mm and 18-...   \n",
       "\n",
       "                                                question2  is_duplicate  \n",
       "400822  How do I transfer a fixed deposit account from...             0  \n",
       "62499    How much does it cost to start a drone business?             1  \n",
       "336514          How do I smooth down cowlicks in my hair?             0  \n",
       "330481  Why don't shipping companies put ads (food ads...             0  \n",
       "22458              Which is the least painful way to die?             1  \n",
       "282105     Which laptop should I buy in the range of 45K?             0  \n",
       "402464                      How can i find a music video?             0  \n",
       "200277  What's the best way to reject someone (especia...             0  \n",
       "48842   Who will win the 2016 United States Presidenti...             1  \n",
       "293511  What should I do whether I have Canon 18-55 + ...             0  "
      ]
     },
     "execution_count": 274,
     "metadata": {},
     "output_type": "execute_result"
    }
   ],
   "source": [
    "# small sample dataset\n",
    "small = train.sample(n = 10)\n",
    "small.tail(30)"
   ]
  },
  {
   "cell_type": "code",
   "execution_count": 275,
   "metadata": {},
   "outputs": [
    {
     "name": "stdout",
     "output_type": "stream",
     "text": [
      "[u'which', u'laptop', u'should', u'i', u'buy', u'under', u'range', u'of', u'35k', u'rs', u'?']\n",
      "[u'which', u'laptop', u'should', u'i', u'buy', u'under', u'range', u'of', u'35k', u'rs', u'?']\n"
     ]
    }
   ],
   "source": [
    "def remove(sentence, regex, lemmatize = False):\n",
    "    #[^a-zA-Z]\n",
    "    #print(sentence)\n",
    "    ret = sentence\n",
    "    #ret = re.sub(regex,' ', ret)\n",
    "    \n",
    "    ret = ret.lower()\n",
    "    \n",
    "    ret = word_tokenize(ret) #uses punkt tokenizer\n",
    "    \n",
    "    #ps = PorterStemmer()\n",
    "    #ret = [ps.stem(x) for x in ret]\n",
    "    \n",
    "    if lemmatize:\n",
    "        wnl = WordNetLemmatizer()\n",
    "        ret = [wnl.lemmatize(x) for x in ret]\n",
    "    \n",
    "    return ret\n",
    "\n",
    "def remove_dcn(sentence, lemmatize = False):\n",
    "    #[^a-zA-Z]\n",
    "    ret = sentence\n",
    "    ret = ret.lower()\n",
    "    \n",
    "    ret = prepro.tokenize(ret) #uses punkt tokenizer\n",
    "    if lemmatize:\n",
    "        wnl = WordNetLemmatizer()\n",
    "        ret = [wnl.lemmatize(x) for x in ret]\n",
    "    \n",
    "    return ret\n",
    "\n",
    "ind = 5\n",
    "print(small['question1'].apply(lambda x: remove(x, \"\")).iloc[ind])\n",
    "print(small['question1'].apply(lambda x: remove_dcn(x)).iloc[ind])"
   ]
  },
  {
   "cell_type": "code",
   "execution_count": 277,
   "metadata": {},
   "outputs": [],
   "source": [
    "# Make Dictionary of id to unique, cleaned questions \n",
    "# Also fill dictionary with encountered words\n",
    "\n",
    "id2q = {}\n",
    "vocab = {}\n",
    "for index, row in train.iterrows():\n",
    "    if not row['qid1'] in id2q:\n",
    "        word_list = remove_dcn(row['question1']) #remove(row['question1'], '')\n",
    "        vocab.update({v:1 for v in word_list})\n",
    "        id2q[row['qid1']] = word_list\n",
    "    if not row['qid2'] in dictionary:\n",
    "        word_list = remove_dcn(row['question2']) #remove(row['question2'], '')\n",
    "        vocab.update({v:1 for v in word_list})\n",
    "        id2q[row['qid2']] = word_list\n"
   ]
  },
  {
   "cell_type": "code",
   "execution_count": 278,
   "metadata": {},
   "outputs": [
    {
     "name": "stdout",
     "output_type": "stream",
     "text": [
      "Number of Unique Questions: 290654\n",
      "[u'why', u'did', u'aircraft', u'stop', u'using', u'variable-sweep', u'wings', u',', u'like', u'those', u'on', u'an', u'f-14', u'?']\n",
      "\n",
      "Unique Vocab Size 83782\n"
     ]
    }
   ],
   "source": [
    "print(\"Number of Unique Questions: \" + str(len(id2q)))\n",
    "print(id2q[80])\n",
    "#print(id2q[667])\n",
    "#print(id2q[663])\n",
    "\n",
    "print(\"\")\n",
    "print(\"Unique Vocab Size \" + str(len(vocab)))"
   ]
  },
  {
   "cell_type": "code",
   "execution_count": 233,
   "metadata": {},
   "outputs": [],
   "source": [
    "# Import Glove Embeddings \n",
    "import io "
   ]
  },
  {
   "cell_type": "code",
   "execution_count": 279,
   "metadata": {},
   "outputs": [
    {
     "ename": "IOError",
     "evalue": "[Errno 2] No such file or directory: 'data/glove.6B/glove.6B.50d.txt'",
     "output_type": "error",
     "traceback": [
      "\u001b[0;31m---------------------------------------------------------------------------\u001b[0m",
      "\u001b[0;31mIOError\u001b[0m                                   Traceback (most recent call last)",
      "\u001b[0;32m<ipython-input-279-2332e21f92ae>\u001b[0m in \u001b[0;36m<module>\u001b[0;34m()\u001b[0m\n\u001b[1;32m     11\u001b[0m     \u001b[0;32mreturn\u001b[0m\u001b[0;34m\u001b[0m\u001b[0m\n\u001b[1;32m     12\u001b[0m \u001b[0;31m# load the whole embedding into memory\u001b[0m\u001b[0;34m\u001b[0m\u001b[0;34m\u001b[0m\u001b[0m\n\u001b[0;32m---> 13\u001b[0;31m \u001b[0mf\u001b[0m \u001b[0;34m=\u001b[0m \u001b[0mio\u001b[0m\u001b[0;34m.\u001b[0m\u001b[0mopen\u001b[0m\u001b[0;34m(\u001b[0m\u001b[0mdata_dir\u001b[0m \u001b[0;34m+\u001b[0m \u001b[0;34m\"glove.6B/\"\u001b[0m \u001b[0;34m+\u001b[0m \u001b[0;34m'glove.6B.50d.txt'\u001b[0m\u001b[0;34m,\u001b[0m \u001b[0mmode\u001b[0m\u001b[0;34m=\u001b[0m\u001b[0;34m'r'\u001b[0m\u001b[0;34m,\u001b[0m \u001b[0mencoding\u001b[0m\u001b[0;34m=\u001b[0m\u001b[0;34m\"utf-8\"\u001b[0m\u001b[0;34m)\u001b[0m\u001b[0;34m\u001b[0m\u001b[0m\n\u001b[0m\u001b[1;32m     14\u001b[0m \u001b[0mrecord_vocab\u001b[0m\u001b[0;34m(\u001b[0m\u001b[0mf\u001b[0m\u001b[0;34m,\u001b[0m \u001b[0mdata_dir\u001b[0m \u001b[0;34m+\u001b[0m \u001b[0;34m\"glove.6B/\"\u001b[0m \u001b[0;34m+\u001b[0m \u001b[0;34m'glove_vocab.txt'\u001b[0m\u001b[0;34m)\u001b[0m\u001b[0;34m\u001b[0m\u001b[0m\n\u001b[1;32m     15\u001b[0m \u001b[0mf\u001b[0m\u001b[0;34m.\u001b[0m\u001b[0mclose\u001b[0m\u001b[0;34m(\u001b[0m\u001b[0;34m)\u001b[0m\u001b[0;34m\u001b[0m\u001b[0m\n",
      "\u001b[0;31mIOError\u001b[0m: [Errno 2] No such file or directory: 'data/glove.6B/glove.6B.50d.txt'"
     ]
    }
   ],
   "source": [
    "# write GloVe vocab to textfile\n",
    "def record_vocab(file, file_name):\n",
    "    to_write = io.open(file_name, 'a', encoding=\"utf-8\")\n",
    "    \n",
    "    for line in f:\n",
    "        values = line.split()\n",
    "        word = values[0]\n",
    "        to_write.write(word+'\\n')\n",
    "        pass\n",
    "    to_write.close()\n",
    "    return \n",
    "# load the whole embedding into memory\n",
    "f = io.open(data_dir + \"glove.6B/\" + 'glove.6B.50d.txt', mode='r', encoding=\"utf-8\")\n",
    "record_vocab(f, data_dir + \"glove.6B/\" + 'glove_vocab.txt')\n",
    "f.close()"
   ]
  },
  {
   "cell_type": "code",
   "execution_count": 280,
   "metadata": {},
   "outputs": [
    {
     "name": "stdout",
     "output_type": "stream",
     "text": [
      "Loaded 53837 word vectors.\n"
     ]
    }
   ],
   "source": [
    "# load the whole embedding into memory\n",
    "embeddings_dir = \"dynamic-coattention-network-plus/download/dwr/\"\n",
    "f = io.open(embeddings_dir + 'glove.6B.100d.txt', mode='r', encoding=\"utf-8\")\n",
    "embeddings = {}\n",
    "for line in f:\n",
    "    values = line.split()\n",
    "    word = values[0]\n",
    "    if word in vocab:\n",
    "        coefs = np.asarray(values[1:], dtype='float32')\n",
    "        embeddings[word] = coefs\n",
    "    pass\n",
    "print('Loaded %s word vectors.' % len(embeddings))\n",
    "f.close()"
   ]
  },
  {
   "cell_type": "code",
   "execution_count": 281,
   "metadata": {},
   "outputs": [
    {
     "name": "stdout",
     "output_type": "stream",
     "text": [
      "Average OOV Count Per Quesiton: 0.15350898319\n",
      "Average OOV Count For Questions with an OOV: 1.26353647485\n",
      "Median OOV Count For Questions with an OOV: 1.0\n",
      "Average OOV Ratio Per Quesiton: 0.0121782384484\n",
      "Fraction of Quesitons with OOV: 0.121491532888\n"
     ]
    }
   ],
   "source": [
    "avg_oov_per_q = 0\n",
    "avg_oov_ratio_per_q = 0\n",
    "qs_with_oov = 0\n",
    "avg_oov_q_with_oov = 0\n",
    "oov_counts = []\n",
    "q_count = len(id2q)\n",
    "for v in id2q.values():\n",
    "    oov_count = 0\n",
    "    oov_ratio = 1\n",
    "    for w in v:\n",
    "        if not w in embeddings:\n",
    "            oov_count += 1.\n",
    "        pass\n",
    "    avg_oov_per_q += oov_count/q_count\n",
    "    avg_oov_q_with_oov += int(oov_count > 0.5)*oov_count\n",
    "    \n",
    "    if oov_count>.5:\n",
    "        oov_counts.append(oov_count)\n",
    "    \n",
    "    avg_oov_ratio_per_q += (oov_count/len(v))/q_count\n",
    "    qs_with_oov += int(oov_count > 0.5)\n",
    "    \n",
    "    pass\n",
    "\n",
    "print(\"Average OOV Count Per Quesiton: \" + str(avg_oov_per_q))\n",
    "print(\"Average OOV Count For Questions with an OOV: \" + str(avg_oov_q_with_oov/qs_with_oov))\n",
    "print(\"Median OOV Count For Questions with an OOV: \" + str(np.median(oov_counts)))\n",
    "\n",
    "print(\"Average OOV Ratio Per Quesiton: \" + str(avg_oov_ratio_per_q))\n",
    "print(\"Fraction of Quesitons with OOV: \" + str(1.*qs_with_oov/q_count))\n"
   ]
  },
  {
   "cell_type": "code",
   "execution_count": 282,
   "metadata": {},
   "outputs": [
    {
     "data": {
      "image/png": "[encoded data removed]",
      "text/plain": [
       "<matplotlib.figure.Figure at 0x1a5c4e7dd0>"
      ]
     },
     "metadata": {},
     "output_type": "display_data"
    }
   ],
   "source": [
    "from matplotlib import pyplot as plt\n",
    "plt.hist(oov_counts, 50, range = (0,7))\n",
    "plt.title('Out of Vocab Word Counts')\n",
    "plt.show()"
   ]
  },
  {
   "cell_type": "code",
   "execution_count": null,
   "metadata": {},
   "outputs": [],
   "source": []
  }
 ],
 "metadata": {
  "kernelspec": {
   "display_name": "Python [conda env:anaconda2]",
   "language": "python",
   "name": "conda-env-anaconda2-py"
  },
  "language_info": {
   "codemirror_mode": {
    "name": "ipython",
    "version": 2
   },
   "file_extension": ".py",
   "mimetype": "text/x-python",
   "name": "python",
   "nbconvert_exporter": "python",
   "pygments_lexer": "ipython2",
   "version": "2.7.13"
  }
 },
 "nbformat": 4,
 "nbformat_minor": 2
}
